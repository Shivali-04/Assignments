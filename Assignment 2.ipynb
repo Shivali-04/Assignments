{
 "cells": [
  {
   "cell_type": "markdown",
   "metadata": {},
   "source": [
    "# Assignment 2"
   ]
  },
  {
   "cell_type": "markdown",
   "metadata": {},
   "source": [
    "## Task 1"
   ]
  },
  {
   "cell_type": "markdown",
   "metadata": {},
   "source": [
    "#### 1.1Write a Python Program to implement your own myreduce() function which works exactly like Python's built-in function reduce()"
   ]
  },
  {
   "cell_type": "code",
   "execution_count": 3,
   "metadata": {
    "scrolled": false
   },
   "outputs": [
    {
     "name": "stdout",
     "output_type": "stream",
     "text": [
      "55\n",
      "3628800\n",
      "-53\n"
     ]
    }
   ],
   "source": [
    "def myreduce(func, x):\n",
    "    y=x[0] \n",
    "    for i in range(1,len(x)):\n",
    "        y = (func(y,x[i]))\n",
    "    return y   \n",
    "                  \n",
    "def add(x1,x2):\n",
    "    return x1+x2\n",
    " \n",
    "def multi(x1,x2):\n",
    "    return x1*x2\n",
    "\n",
    "def diff(x1,x2):\n",
    "    return x1-x2\n",
    "\n",
    "\n",
    "print(myreduce(add,[1,2,3,4,5,6,7,8,9,10]))\n",
    "print(myreduce(multi,[1,2,3,4,5,6,7,8,9,10]))\n",
    "print(myreduce(diff,[1,2,3,4,5,6,7,8,9,10]))"
   ]
  },
  {
   "cell_type": "markdown",
   "metadata": {},
   "source": [
    "#### 1.2Write a Python program to implement your own myfilter() function which works exactly like Python's built-in function filter()"
   ]
  },
  {
   "cell_type": "code",
   "execution_count": 4,
   "metadata": {},
   "outputs": [
    {
     "name": "stdout",
     "output_type": "stream",
     "text": [
      "2\n",
      "4\n",
      "6\n",
      "------------------------------------------------------------\n",
      "a\n",
      "e\n",
      "u\n",
      "a\n",
      "E\n",
      "A\n"
     ]
    }
   ],
   "source": [
    "def myfilter(func,x):\n",
    "    value=[]\n",
    "    for i in range(0,len(x)):\n",
    "        y=func(x[i])\n",
    "        if y== True:\n",
    "            value.append(x[i])\n",
    "    return value\n",
    "#-------------------------------------------#\n",
    "def even(e):\n",
    "    if e%2 ==0:\n",
    "        return True\n",
    "    else:\n",
    "        return False\n",
    "#-------------------------------------------#\n",
    "def Vowel(v):\n",
    "    if v in ['a','e','i','o','u','A','E','I','O','U']:\n",
    "        return True\n",
    "    else:\n",
    "        return False\n",
    "#-------------------------------------------#\n",
    "x= myfilter(even,[1,2,3,4,5,6])\n",
    "y = myfilter(Vowel,['a','b','c','d','e','u','v','x','a','E','A'])\n",
    "\n",
    "for i in x:\n",
    "    print(i)\n",
    "\n",
    "print('-'*60)\n",
    "\n",
    "for i in y:\n",
    "    print(i)"
   ]
  },
  {
   "cell_type": "markdown",
   "metadata": {},
   "source": [
    "### 2\n",
    "Implement List comprehensions to produce the following lists.\n",
    "#Write List comprehensions to produce the following Lists"
   ]
  },
  {
   "cell_type": "markdown",
   "metadata": {},
   "source": [
    "####  ['A', 'C', 'A', 'D', 'G', 'I', ’L’, ‘ D’]"
   ]
  },
  {
   "cell_type": "code",
   "execution_count": 5,
   "metadata": {},
   "outputs": [
    {
     "data": {
      "text/plain": [
       "['A', 'C', 'A', 'D', 'G', 'I', 'L', 'D']"
      ]
     },
     "execution_count": 5,
     "metadata": {},
     "output_type": "execute_result"
    }
   ],
   "source": [
    "stdata= 'ACADGILD'\n",
    "[val for val in stdata]"
   ]
  },
  {
   "cell_type": "markdown",
   "metadata": {},
   "source": [
    "#### ['x', 'xx', 'xxx', 'xxxx', 'y', 'yy', 'yyy', 'yyyy', 'z', 'zz', 'zzz', 'zzzz']"
   ]
  },
  {
   "cell_type": "code",
   "execution_count": 6,
   "metadata": {
    "scrolled": false
   },
   "outputs": [
    {
     "data": {
      "text/plain": [
       "['X', 'XX', 'XXX', 'XXXX', 'Y', 'YY', 'YYY', 'YYYY', 'Z', 'ZZ', 'ZZZ', 'ZZZZ']"
      ]
     },
     "execution_count": 6,
     "metadata": {},
     "output_type": "execute_result"
    }
   ],
   "source": [
    "[k*t for k in 'XYZ' for t in range(1,5)]"
   ]
  },
  {
   "cell_type": "markdown",
   "metadata": {},
   "source": [
    "#### ['x', 'y', 'z', 'xx', 'yy', 'zz', 'xx', 'yy', 'zz', 'xxxx', 'yyyy', 'zzzz']"
   ]
  },
  {
   "cell_type": "code",
   "execution_count": 7,
   "metadata": {},
   "outputs": [
    {
     "data": {
      "text/plain": [
       "['X', 'Y', 'Z', 'XX', 'YY', 'ZZ', 'XX', 'YY', 'ZZ', 'XXXX', 'YYYY', 'ZZZZ']"
      ]
     },
     "execution_count": 7,
     "metadata": {},
     "output_type": "execute_result"
    }
   ],
   "source": [
    "[k*t for t in [1,2,2,4] for k in 'XYZ']"
   ]
  },
  {
   "cell_type": "markdown",
   "metadata": {},
   "source": [
    "#### [[2], [3], [4], [3], [4], [5], [4], [5], [6]]"
   ]
  },
  {
   "cell_type": "code",
   "execution_count": 8,
   "metadata": {},
   "outputs": [
    {
     "data": {
      "text/plain": [
       "[[2], [3], [4], [3], [4], [5], [4], [5], [6]]"
      ]
     },
     "execution_count": 8,
     "metadata": {},
     "output_type": "execute_result"
    }
   ],
   "source": [
    "[[k+i] for k in range(1,4) for i in [1,2,3]]"
   ]
  },
  {
   "cell_type": "markdown",
   "metadata": {},
   "source": [
    "#### [[2, 3, 4, 5], [3, 4, 5, 6], [4, 5, 6, 7], [5, 6, 7, 8]]"
   ]
  },
  {
   "cell_type": "code",
   "execution_count": 9,
   "metadata": {
    "scrolled": true
   },
   "outputs": [
    {
     "data": {
      "text/plain": [
       "[[2, 3, 4, 5], [3, 4, 5, 6], [4, 5, 6, 7], [5, 6, 7, 8]]"
      ]
     },
     "execution_count": 9,
     "metadata": {},
     "output_type": "execute_result"
    }
   ],
   "source": [
    "[[k+i for k in [1,2,3,4]] for i in range(1,5)]"
   ]
  },
  {
   "cell_type": "markdown",
   "metadata": {},
   "source": [
    "#### [(1, 1), (2, 1), (3, 1), (1, 2), (2, 2), (3, 2), (1, 3), (2, 3), (3, 3)]"
   ]
  },
  {
   "cell_type": "code",
   "execution_count": 10,
   "metadata": {},
   "outputs": [
    {
     "data": {
      "text/plain": [
       "[(1, 1), (2, 1), (3, 1), (1, 2), (2, 2), (3, 2), (1, 3), (2, 3), (3, 3)]"
      ]
     },
     "execution_count": 10,
     "metadata": {},
     "output_type": "execute_result"
    }
   ],
   "source": [
    "[(k,i) for i in [1,2,3] for k in [1,2,3]]"
   ]
  },
  {
   "cell_type": "markdown",
   "metadata": {},
   "source": [
    "#### 3. Implement a function longestWord() that takes a list of words and returns the longest one."
   ]
  },
  {
   "cell_type": "code",
   "execution_count": 11,
   "metadata": {},
   "outputs": [
    {
     "name": "stdout",
     "output_type": "stream",
     "text": [
      "aaaaaa\n",
      "Ramaaaaaa\n"
     ]
    }
   ],
   "source": [
    "def longestWord(x):\n",
    "    base_length = len(x[0])\n",
    "    count=0\n",
    "    for i in range(1,len(x)):\n",
    "        if len(x[i])>base_length:\n",
    "            base_length= len(x[i])\n",
    "            count=i\n",
    "    return(x[count])       \n",
    "\n",
    "\n",
    "List1=['aa','aa','aaa','aaaa','aaaaaa']\n",
    "print(longestWord(List1))\n",
    "print(longestWord(['Ramaaaaaa','Sita','Hanuman']))"
   ]
  },
  {
   "cell_type": "markdown",
   "metadata": {},
   "source": [
    "## Task 2"
   ]
  },
  {
   "cell_type": "markdown",
   "metadata": {},
   "source": [
    "#### 1.1 Write a Python Program(with class concepts) to find the area of the triangle using the below formula.                            area = (s*(s-a)*(s-b)*(s-c)) ** 0.5                                                                                                                                                                   Function to take the length of the sides of triangle from user should be defined in the parent class and function to calculate the area should be defined in subclass"
   ]
  },
  {
   "cell_type": "code",
   "execution_count": 10,
   "metadata": {
    "scrolled": true
   },
   "outputs": [
    {
     "name": "stdout",
     "output_type": "stream",
     "text": [
      "a=10\n",
      "b=12\n",
      "c=12\n",
      "area : 54.543560573178574\n"
     ]
    }
   ],
   "source": [
    "class size:\n",
    "    def __init__(self,a,b,c):\n",
    "        self.a = float(a)\n",
    "        self.b = float(b)\n",
    "        self.c = float(c)\n",
    "a= float(input(\"a=\"))\n",
    "b= float(input(\"b=\"))\n",
    "c= float(input(\"c=\"))\n",
    "\n",
    "class triangle(size):\n",
    "    def __init__(self,a,b,c):\n",
    "        super().__init__(a,b,c)\n",
    "\n",
    "    def get_area(self):\n",
    "        s = (a + b + c) / 2\n",
    "        area= (s*(s-a)*(s-b)*(s-c)) ** 0.5        \n",
    "        return area\n",
    "    \n",
    "\n",
    "t = triangle(a,b,c)\n",
    "print(\"area : {}\".format(t.get_area()))"
   ]
  },
  {
   "cell_type": "markdown",
   "metadata": {},
   "source": [
    "#### 1.2Write a function filter_long_words() that takes a list of words and an integer n and returns the list  of words that are longer than n.\n"
   ]
  },
  {
   "cell_type": "code",
   "execution_count": 13,
   "metadata": {},
   "outputs": [
    {
     "name": "stdout",
     "output_type": "stream",
     "text": [
      "['Ramesh', 'dina', 'And', 'Elephant', 'Ant']\n",
      "['aaaaaaaaaaa', 'aaaa', 'aaaaa', 'aaaaaa']\n"
     ]
    }
   ],
   "source": [
    "def filter_long_words(x,n):\n",
    "    a=[]\n",
    "    for i in x:\n",
    "        if len(i)>n:\n",
    "            a.append(i)\n",
    "    return a\n",
    "\n",
    "\n",
    "print(filter_long_words(['Ramesh','dina','Or','And','Elephant','Ant','a','or'],2))\n",
    "print(filter_long_words(['aaaaaaaaaaa','aa','aaa','a','aaaa','aaaaa','aaaaaa'],3))\n"
   ]
  },
  {
   "cell_type": "markdown",
   "metadata": {},
   "source": [
    "#### 2.1 Write a Python program using function concept that maps list of words into a list of integers representing the lengths of the corresponding words .                                                                                                                                                                           Hint: If a list [ ab,cde,erty] is passed on to the python function output should come as [2,3,4]                                                                Here 2,3 and 4 are the lengths of the words in the list."
   ]
  },
  {
   "cell_type": "code",
   "execution_count": 15,
   "metadata": {},
   "outputs": [
    {
     "name": "stdout",
     "output_type": "stream",
     "text": [
      "[1, 2, 3, 4]\n",
      "[4, 4, 7, 6]\n"
     ]
    }
   ],
   "source": [
    "def mapping(x):\n",
    "    a=[]\n",
    "    for i in x:\n",
    "        a.append(len(i))\n",
    "    return a\n",
    "\n",
    "print(mapping(['a','be','cde','erty']))\n",
    "print(mapping(['Rama','Sita','Hanuman','Ravana']))\n",
    "        "
   ]
  },
  {
   "cell_type": "markdown",
   "metadata": {},
   "source": [
    "#### 2.2 Write a Python function which takes a character (i.e. a string of length 1) and returns True if it is a vowel, False otherwise."
   ]
  },
  {
   "cell_type": "code",
   "execution_count": 16,
   "metadata": {},
   "outputs": [
    {
     "name": "stdout",
     "output_type": "stream",
     "text": [
      "False\n",
      "True\n",
      "True\n",
      "False\n",
      "Not a Character, Pease Enter Character\n"
     ]
    }
   ],
   "source": [
    "def isVowel(x):\n",
    "    if(len(x)==1):\n",
    "        if x in ['a','e','i','o','u','A','E','I','O','U']:\n",
    "            return True\n",
    "        else:\n",
    "            return False\n",
    "    else:\n",
    "        return 'Not a Character, Pease Enter Character'\n",
    "    \n",
    "print(isVowel('s'))\n",
    "print(isVowel('a'))\n",
    "print(isVowel('U'))\n",
    "print(isVowel('K'))\n",
    "print(isVowel('Animal'))"
   ]
  },
  {
   "cell_type": "code",
   "execution_count": null,
   "metadata": {},
   "outputs": [],
   "source": []
  }
 ],
 "metadata": {
  "kernelspec": {
   "display_name": "Python 3",
   "language": "python",
   "name": "python3"
  },
  "language_info": {
   "codemirror_mode": {
    "name": "ipython",
    "version": 3
   },
   "file_extension": ".py",
   "mimetype": "text/x-python",
   "name": "python",
   "nbconvert_exporter": "python",
   "pygments_lexer": "ipython3",
   "version": "3.7.3"
  }
 },
 "nbformat": 4,
 "nbformat_minor": 2
}

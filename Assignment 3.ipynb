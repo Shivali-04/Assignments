{
 "cells": [
  {
   "cell_type": "markdown",
   "metadata": {},
   "source": [
    "# Assignment 3"
   ]
  },
  {
   "cell_type": "markdown",
   "metadata": {},
   "source": [
    "## Task1"
   ]
  },
  {
   "cell_type": "markdown",
   "metadata": {},
   "source": [
    "#### 1.\n",
    "Write a function to compute 5/0 and use try/except to catch the exceptions."
   ]
  },
  {
   "cell_type": "code",
   "execution_count": 10,
   "metadata": {},
   "outputs": [
    {
     "name": "stdout",
     "output_type": "stream",
     "text": [
      "Dividing 5/0\n",
      "division by zero\n"
     ]
    }
   ],
   "source": [
    "def divide():\n",
    "    print('Dividing 5/0')\n",
    "    try:\n",
    "        k= 5/0\n",
    "    except Exception as e:\n",
    "        print(e)\n",
    "        \n",
    "divide()"
   ]
  },
  {
   "cell_type": "markdown",
   "metadata": {},
   "source": [
    "#### 2.\n",
    "Implement a Python program to generate all sentences where subject is in [\"Americans\",\n",
    "\"Indians\"] and verb is in [\"Play\", \"watch\"] and the object is in [\"Baseball\",\"cricket\"]."
   ]
  },
  {
   "cell_type": "code",
   "execution_count": 11,
   "metadata": {},
   "outputs": [
    {
     "name": "stdout",
     "output_type": "stream",
     "text": [
      "Americans play Baseball\n",
      "Americans play Cricket\n",
      "Americans watch Baseball\n",
      "Americans watch Cricket\n",
      "Indians play Baseball\n",
      "Indians play Cricket\n",
      "Indians watch Baseball\n",
      "Indians watch Cricket\n"
     ]
    }
   ],
   "source": [
    "Subject=[\"Americans\",\"Indians\"]\n",
    "Verb=[\"play\",\"watch\"]\n",
    "Object=[\"Baseball\",\"Cricket\"]\n",
    "for i in Subject:\n",
    "    for j in Verb:\n",
    "        for k in Object:\n",
    "            print(\"%s %s %s\"%(i,j,k))\n",
    "            "
   ]
  },
  {
   "cell_type": "markdown",
   "metadata": {},
   "source": [
    "# Task 2"
   ]
  },
  {
   "cell_type": "markdown",
   "metadata": {},
   "source": [
    "#### 1.\n"
   ]
  },
  {
   "cell_type": "code",
   "execution_count": 14,
   "metadata": {},
   "outputs": [
    {
     "name": "stdout",
     "output_type": "stream",
     "text": [
      "[[    1     2     4     8    16    32]\n",
      " [    1     3     9    27    81   243]\n",
      " [    1     4    16    64   256  1024]\n",
      " [    1     5    25   125   625  3125]\n",
      " [    1     6    36   216  1296  7776]\n",
      " [    1     7    49   343  2401 16807]]\n",
      "------------------------------------------------------------\n",
      "[[   32    16     8     4     2     1]\n",
      " [  243    81    27     9     3     1]\n",
      " [ 1024   256    64    16     4     1]\n",
      " [ 3125   625   125    25     5     1]\n",
      " [ 7776  1296   216    36     6     1]\n",
      " [16807  2401   343    49     7     1]]\n"
     ]
    }
   ],
   "source": [
    "import numpy as np\n",
    "def ATVander(iv,increasing):\n",
    "    N=len(iv)\n",
    "    if(increasing==True):\n",
    "        k=[]\n",
    "        for i in iv:\n",
    "            l=[]\n",
    "            for j in range(0,N):\n",
    "                l.append(i**j)\n",
    "            k.append(l)\n",
    "        k= np.array(k)\n",
    "        return k\n",
    "\n",
    "    elif(increasing==False):\n",
    "        k=[]\n",
    "        for i in iv:\n",
    "            l=[]\n",
    "            for j in range(0,N):\n",
    "                l.append(i**(N-j-1))\n",
    "            k.append(l) \n",
    "        k= np.array(k)\n",
    "        return k\n",
    "    \n",
    "print(ATVander([2,3,4,5,6,7],True))\n",
    "print('-'*60)\n",
    "print(ATVander([2,3,4,5,6,7],False))"
   ]
  },
  {
   "cell_type": "code",
   "execution_count": null,
   "metadata": {},
   "outputs": [],
   "source": []
  }
 ],
 "metadata": {
  "kernelspec": {
   "display_name": "Python 3",
   "language": "python",
   "name": "python3"
  },
  "language_info": {
   "codemirror_mode": {
    "name": "ipython",
    "version": 3
   },
   "file_extension": ".py",
   "mimetype": "text/x-python",
   "name": "python",
   "nbconvert_exporter": "python",
   "pygments_lexer": "ipython3",
   "version": "3.7.3"
  }
 },
 "nbformat": 4,
 "nbformat_minor": 2
}
